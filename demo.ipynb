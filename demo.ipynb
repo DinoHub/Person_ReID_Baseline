{
 "cells": [
  {
   "cell_type": "code",
   "execution_count": null,
   "metadata": {},
   "outputs": [
    {
     "name": "stdout",
     "output_type": "stream",
     "text": [
      "Dataset Check Success: Market1501 exists!\n",
      "2019-02-06 10:10:38,183 Reid_Baseline INFO: Using 1 GPUS\n",
      "2019-02-06 10:10:38,186 Reid_Baseline INFO: Loaded configuration file ./config/market_softmax.yaml\n",
      "2019-02-06 10:10:38,188 Reid_Baseline INFO: Running with config:\n",
      "DATALOADER:\n",
      "  NUM_INSTANCE: 16\n",
      "  NUM_WORKERS: 8\n",
      "  SAMPLER: softmax\n",
      "DATASETS:\n",
      "  NAMES: Market1501\n",
      "  STORE_DIR: ./datasets\n",
      "INPUT:\n",
      "  PADDING: 10\n",
      "  PIXEL_MEAN: [0.485, 0.456, 0.406]\n",
      "  PIXEL_STD: [0.229, 0.224, 0.225]\n",
      "  PROB: 0.5\n",
      "  SIZE_TEST: [384, 128]\n",
      "  SIZE_TRAIN: [384, 128]\n",
      "MODEL:\n",
      "  DEVICE: cuda:7\n",
      "  LAST_STRIDE: 1\n",
      "  NAME: ResNet50\n",
      "  PRETRAIN_PATH: /home/linshan/.torch/models/resnet50-19c8e357.pth\n",
      "OUTPUT_DIR: ./checkpoint/Market1501/Softmax_BS64_384x128\n",
      "SOLVER:\n",
      "  BASE_LR: 0.00035\n",
      "  BIAS_LR_FACTOR: 1\n",
      "  CHECKPOINT_PERIOD: 20\n",
      "  EVAL_PERIOD: 20\n",
      "  GAMMA: 0.1\n",
      "  IMS_PER_BATCH: 64\n",
      "  LOG_PERIOD: 100\n",
      "  MARGIN: 0.3\n",
      "  MAX_EPOCHS: 120\n",
      "  MOMENTUM: 0.9\n",
      "  OPTIMIZER_NAME: Adam\n",
      "  STEP: 40\n",
      "  WARMUP: True\n",
      "  WARMUP_FACTOR: 0.01\n",
      "  WARMUP_ITERS: 5\n",
      "  WARMUP_METHOD: linear\n",
      "  WARMUP_STEPS: [40, 70]\n",
      "  WEIGHT_DECAY: 0.0005\n",
      "  WEIGHT_DECAY_BIAS: 0.0005\n",
      "TEST:\n",
      "  IMS_PER_BATCH: 256\n",
      "  WEIGHT: \n",
      "=> Market1501 Loaded\n",
      "Dataset statistics:\n",
      "  ----------------------------------------\n",
      "  subset   | # ids | # images | # cameras\n",
      "  ----------------------------------------\n",
      "  train    |   751 |    12936 |         6\n",
      "  query    |   750 |     3368 |         6\n",
      "  gallery  |   751 |    15913 |         6\n",
      "  ----------------------------------------\n",
      "2019-02-06 10:10:39,786 Reid_Baseline INFO: Start training\n"
     ]
    },
    {
     "data": {
      "application/vnd.jupyter.widget-view+json": {
       "model_id": "044b8cfe5a954985b01021d1c9d5c0fe",
       "version_major": 2,
       "version_minor": 0
      },
      "text/plain": [
       "HBox(children=(IntProgress(value=0, description='Epoch', max=120), HTML(value='')))"
      ]
     },
     "metadata": {},
     "output_type": "display_data"
    },
    {
     "data": {
      "application/vnd.jupyter.widget-view+json": {
       "model_id": "",
       "version_major": 2,
       "version_minor": 0
      },
      "text/plain": [
       "HBox(children=(IntProgress(value=0, description='Iteration', max=203), HTML(value='')))"
      ]
     },
     "metadata": {},
     "output_type": "display_data"
    },
    {
     "name": "stdout",
     "output_type": "stream",
     "text": [
      "2019-02-06 10:12:11,653 Reid_Baseline INFO: Epoch[1] Iteration[100/203] Loss: 6.615, Acc: 0.004, Base Lr: -6.58e-05\n",
      "2019-02-06 10:13:39,539 Reid_Baseline INFO: Epoch[1] Iteration[200/203] Loss: 6.605, Acc: 0.008, Base Lr: -6.58e-05\n"
     ]
    },
    {
     "data": {
      "application/vnd.jupyter.widget-view+json": {
       "model_id": "",
       "version_major": 2,
       "version_minor": 0
      },
      "text/plain": [
       "HBox(children=(IntProgress(value=0, description='Iteration', max=203), HTML(value='')))"
      ]
     },
     "metadata": {},
     "output_type": "display_data"
    },
    {
     "name": "stdout",
     "output_type": "stream",
     "text": [
      "2019-02-06 10:15:09,912 Reid_Baseline INFO: Epoch[2] Iteration[100/203] Loss: 6.556, Acc: 0.058, Base Lr: -6.58e-05\n",
      "2019-02-06 10:16:37,722 Reid_Baseline INFO: Epoch[2] Iteration[200/203] Loss: 6.534, Acc: 0.070, Base Lr: -6.58e-05\n"
     ]
    },
    {
     "data": {
      "application/vnd.jupyter.widget-view+json": {
       "model_id": "",
       "version_major": 2,
       "version_minor": 0
      },
      "text/plain": [
       "HBox(children=(IntProgress(value=0, description='Iteration', max=203), HTML(value='')))"
      ]
     },
     "metadata": {},
     "output_type": "display_data"
    },
    {
     "name": "stdout",
     "output_type": "stream",
     "text": [
      "2019-02-06 10:18:07,850 Reid_Baseline INFO: Epoch[3] Iteration[100/203] Loss: 6.435, Acc: 0.111, Base Lr: -6.58e-05\n",
      "2019-02-06 10:19:35,154 Reid_Baseline INFO: Epoch[3] Iteration[200/203] Loss: 6.397, Acc: 0.115, Base Lr: -6.58e-05\n"
     ]
    },
    {
     "data": {
      "application/vnd.jupyter.widget-view+json": {
       "model_id": "",
       "version_major": 2,
       "version_minor": 0
      },
      "text/plain": [
       "HBox(children=(IntProgress(value=0, description='Iteration', max=203), HTML(value='')))"
      ]
     },
     "metadata": {},
     "output_type": "display_data"
    },
    {
     "name": "stdout",
     "output_type": "stream",
     "text": [
      "2019-02-06 10:21:05,373 Reid_Baseline INFO: Epoch[4] Iteration[100/203] Loss: 6.258, Acc: 0.120, Base Lr: -6.58e-05\n",
      "2019-02-06 10:22:32,421 Reid_Baseline INFO: Epoch[4] Iteration[200/203] Loss: 6.216, Acc: 0.117, Base Lr: -6.58e-05\n"
     ]
    },
    {
     "data": {
      "application/vnd.jupyter.widget-view+json": {
       "model_id": "",
       "version_major": 2,
       "version_minor": 0
      },
      "text/plain": [
       "HBox(children=(IntProgress(value=0, description='Iteration', max=203), HTML(value='')))"
      ]
     },
     "metadata": {},
     "output_type": "display_data"
    },
    {
     "name": "stdout",
     "output_type": "stream",
     "text": [
      "2019-02-06 10:24:03,050 Reid_Baseline INFO: Epoch[5] Iteration[100/203] Loss: 6.057, Acc: 0.121, Base Lr: -6.58e-05\n",
      "2019-02-06 10:25:31,238 Reid_Baseline INFO: Epoch[5] Iteration[200/203] Loss: 6.020, Acc: 0.115, Base Lr: -6.58e-05\n"
     ]
    },
    {
     "data": {
      "application/vnd.jupyter.widget-view+json": {
       "model_id": "",
       "version_major": 2,
       "version_minor": 0
      },
      "text/plain": [
       "HBox(children=(IntProgress(value=0, description='Iteration', max=203), HTML(value='')))"
      ]
     },
     "metadata": {},
     "output_type": "display_data"
    },
    {
     "name": "stdout",
     "output_type": "stream",
     "text": [
      "2019-02-06 10:27:01,474 Reid_Baseline INFO: Epoch[6] Iteration[100/203] Loss: 5.872, Acc: 0.111, Base Lr: -6.58e-05\n",
      "2019-02-06 10:28:27,461 Reid_Baseline INFO: Epoch[6] Iteration[200/203] Loss: 5.823, Acc: 0.110, Base Lr: -6.58e-05\n"
     ]
    },
    {
     "data": {
      "application/vnd.jupyter.widget-view+json": {
       "model_id": "",
       "version_major": 2,
       "version_minor": 0
      },
      "text/plain": [
       "HBox(children=(IntProgress(value=0, description='Iteration', max=203), HTML(value='')))"
      ]
     },
     "metadata": {},
     "output_type": "display_data"
    },
    {
     "name": "stdout",
     "output_type": "stream",
     "text": [
      "2019-02-06 10:29:56,313 Reid_Baseline INFO: Epoch[7] Iteration[100/203] Loss: 5.687, Acc: 0.108, Base Lr: -6.58e-05\n",
      "2019-02-06 10:31:22,100 Reid_Baseline INFO: Epoch[7] Iteration[200/203] Loss: 5.635, Acc: 0.113, Base Lr: -6.58e-05\n"
     ]
    },
    {
     "data": {
      "application/vnd.jupyter.widget-view+json": {
       "model_id": "",
       "version_major": 2,
       "version_minor": 0
      },
      "text/plain": [
       "HBox(children=(IntProgress(value=0, description='Iteration', max=203), HTML(value='')))"
      ]
     },
     "metadata": {},
     "output_type": "display_data"
    },
    {
     "name": "stdout",
     "output_type": "stream",
     "text": [
      "2019-02-06 10:32:52,115 Reid_Baseline INFO: Epoch[8] Iteration[100/203] Loss: 5.479, Acc: 0.121, Base Lr: -6.58e-05\n",
      "2019-02-06 10:34:19,037 Reid_Baseline INFO: Epoch[8] Iteration[200/203] Loss: 5.445, Acc: 0.121, Base Lr: -6.58e-05\n"
     ]
    },
    {
     "data": {
      "application/vnd.jupyter.widget-view+json": {
       "model_id": "",
       "version_major": 2,
       "version_minor": 0
      },
      "text/plain": [
       "HBox(children=(IntProgress(value=0, description='Iteration', max=203), HTML(value='')))"
      ]
     },
     "metadata": {},
     "output_type": "display_data"
    },
    {
     "name": "stdout",
     "output_type": "stream",
     "text": [
      "2019-02-06 10:35:47,786 Reid_Baseline INFO: Epoch[9] Iteration[100/203] Loss: 5.288, Acc: 0.139, Base Lr: -6.58e-05\n",
      "2019-02-06 10:37:14,025 Reid_Baseline INFO: Epoch[9] Iteration[200/203] Loss: 5.259, Acc: 0.136, Base Lr: -6.58e-05\n"
     ]
    },
    {
     "data": {
      "application/vnd.jupyter.widget-view+json": {
       "model_id": "",
       "version_major": 2,
       "version_minor": 0
      },
      "text/plain": [
       "HBox(children=(IntProgress(value=0, description='Iteration', max=203), HTML(value='')))"
      ]
     },
     "metadata": {},
     "output_type": "display_data"
    },
    {
     "name": "stdout",
     "output_type": "stream",
     "text": [
      "2019-02-06 10:38:42,843 Reid_Baseline INFO: Epoch[10] Iteration[100/203] Loss: 5.114, Acc: 0.152, Base Lr: -6.58e-05\n",
      "2019-02-06 10:40:08,867 Reid_Baseline INFO: Epoch[10] Iteration[200/203] Loss: 5.079, Acc: 0.154, Base Lr: -6.58e-05\n"
     ]
    },
    {
     "data": {
      "application/vnd.jupyter.widget-view+json": {
       "model_id": "",
       "version_major": 2,
       "version_minor": 0
      },
      "text/plain": [
       "HBox(children=(IntProgress(value=0, description='Iteration', max=203), HTML(value='')))"
      ]
     },
     "metadata": {},
     "output_type": "display_data"
    },
    {
     "name": "stdout",
     "output_type": "stream",
     "text": [
      "2019-02-06 10:41:37,446 Reid_Baseline INFO: Epoch[11] Iteration[100/203] Loss: 4.941, Acc: 0.167, Base Lr: -6.58e-05\n",
      "2019-02-06 10:43:03,449 Reid_Baseline INFO: Epoch[11] Iteration[200/203] Loss: 4.908, Acc: 0.168, Base Lr: -6.58e-05\n"
     ]
    },
    {
     "data": {
      "application/vnd.jupyter.widget-view+json": {
       "model_id": "",
       "version_major": 2,
       "version_minor": 0
      },
      "text/plain": [
       "HBox(children=(IntProgress(value=0, description='Iteration', max=203), HTML(value='')))"
      ]
     },
     "metadata": {},
     "output_type": "display_data"
    },
    {
     "name": "stdout",
     "output_type": "stream",
     "text": [
      "2019-02-06 10:44:32,295 Reid_Baseline INFO: Epoch[12] Iteration[100/203] Loss: 4.782, Acc: 0.177, Base Lr: -6.58e-05\n",
      "2019-02-06 10:45:58,117 Reid_Baseline INFO: Epoch[12] Iteration[200/203] Loss: 4.740, Acc: 0.187, Base Lr: -6.58e-05\n"
     ]
    },
    {
     "data": {
      "application/vnd.jupyter.widget-view+json": {
       "model_id": "",
       "version_major": 2,
       "version_minor": 0
      },
      "text/plain": [
       "HBox(children=(IntProgress(value=0, description='Iteration', max=203), HTML(value='')))"
      ]
     },
     "metadata": {},
     "output_type": "display_data"
    },
    {
     "name": "stdout",
     "output_type": "stream",
     "text": [
      "2019-02-06 10:47:27,069 Reid_Baseline INFO: Epoch[13] Iteration[100/203] Loss: 4.595, Acc: 0.208, Base Lr: -6.58e-05\n",
      "2019-02-06 10:48:52,747 Reid_Baseline INFO: Epoch[13] Iteration[200/203] Loss: 4.577, Acc: 0.207, Base Lr: -6.58e-05\n"
     ]
    },
    {
     "data": {
      "application/vnd.jupyter.widget-view+json": {
       "model_id": "",
       "version_major": 2,
       "version_minor": 0
      },
      "text/plain": [
       "HBox(children=(IntProgress(value=0, description='Iteration', max=203), HTML(value='')))"
      ]
     },
     "metadata": {},
     "output_type": "display_data"
    },
    {
     "name": "stdout",
     "output_type": "stream",
     "text": [
      "2019-02-06 10:50:21,398 Reid_Baseline INFO: Epoch[14] Iteration[100/203] Loss: 4.466, Acc: 0.219, Base Lr: -6.58e-05\n",
      "2019-02-06 10:51:47,349 Reid_Baseline INFO: Epoch[14] Iteration[200/203] Loss: 4.426, Acc: 0.229, Base Lr: -6.58e-05\n"
     ]
    },
    {
     "data": {
      "application/vnd.jupyter.widget-view+json": {
       "model_id": "",
       "version_major": 2,
       "version_minor": 0
      },
      "text/plain": [
       "HBox(children=(IntProgress(value=0, description='Iteration', max=203), HTML(value='')))"
      ]
     },
     "metadata": {},
     "output_type": "display_data"
    },
    {
     "name": "stdout",
     "output_type": "stream",
     "text": [
      "2019-02-06 10:53:16,911 Reid_Baseline INFO: Epoch[15] Iteration[100/203] Loss: 4.289, Acc: 0.255, Base Lr: -6.58e-05\n",
      "2019-02-06 10:54:43,150 Reid_Baseline INFO: Epoch[15] Iteration[200/203] Loss: 4.269, Acc: 0.254, Base Lr: -6.58e-05\n"
     ]
    },
    {
     "data": {
      "application/vnd.jupyter.widget-view+json": {
       "model_id": "",
       "version_major": 2,
       "version_minor": 0
      },
      "text/plain": [
       "HBox(children=(IntProgress(value=0, description='Iteration', max=203), HTML(value='')))"
      ]
     },
     "metadata": {},
     "output_type": "display_data"
    },
    {
     "name": "stdout",
     "output_type": "stream",
     "text": [
      "2019-02-06 10:56:11,789 Reid_Baseline INFO: Epoch[16] Iteration[100/203] Loss: 4.152, Acc: 0.275, Base Lr: -6.58e-05\n",
      "2019-02-06 10:57:37,634 Reid_Baseline INFO: Epoch[16] Iteration[200/203] Loss: 4.127, Acc: 0.278, Base Lr: -6.58e-05\n"
     ]
    },
    {
     "data": {
      "application/vnd.jupyter.widget-view+json": {
       "model_id": "",
       "version_major": 2,
       "version_minor": 0
      },
      "text/plain": [
       "HBox(children=(IntProgress(value=0, description='Iteration', max=203), HTML(value='')))"
      ]
     },
     "metadata": {},
     "output_type": "display_data"
    },
    {
     "name": "stdout",
     "output_type": "stream",
     "text": [
      "2019-02-06 10:59:06,380 Reid_Baseline INFO: Epoch[17] Iteration[100/203] Loss: 4.029, Acc: 0.298, Base Lr: -6.58e-05\n",
      "2019-02-06 11:00:32,275 Reid_Baseline INFO: Epoch[17] Iteration[200/203] Loss: 3.993, Acc: 0.303, Base Lr: -6.58e-05\n"
     ]
    },
    {
     "data": {
      "application/vnd.jupyter.widget-view+json": {
       "model_id": "",
       "version_major": 2,
       "version_minor": 0
      },
      "text/plain": [
       "HBox(children=(IntProgress(value=0, description='Iteration', max=203), HTML(value='')))"
      ]
     },
     "metadata": {},
     "output_type": "display_data"
    },
    {
     "name": "stdout",
     "output_type": "stream",
     "text": [
      "2019-02-06 11:02:02,229 Reid_Baseline INFO: Epoch[18] Iteration[100/203] Loss: 3.882, Acc: 0.319, Base Lr: -6.58e-05\n",
      "2019-02-06 11:03:29,588 Reid_Baseline INFO: Epoch[18] Iteration[200/203] Loss: 3.849, Acc: 0.329, Base Lr: -6.58e-05\n"
     ]
    },
    {
     "data": {
      "application/vnd.jupyter.widget-view+json": {
       "model_id": "",
       "version_major": 2,
       "version_minor": 0
      },
      "text/plain": [
       "HBox(children=(IntProgress(value=0, description='Iteration', max=203), HTML(value='')))"
      ]
     },
     "metadata": {},
     "output_type": "display_data"
    },
    {
     "name": "stdout",
     "output_type": "stream",
     "text": [
      "2019-02-06 11:04:59,773 Reid_Baseline INFO: Epoch[19] Iteration[100/203] Loss: 3.758, Acc: 0.343, Base Lr: -6.58e-05\n",
      "2019-02-06 11:06:27,203 Reid_Baseline INFO: Epoch[19] Iteration[200/203] Loss: 3.724, Acc: 0.353, Base Lr: -6.58e-05\n"
     ]
    },
    {
     "data": {
      "application/vnd.jupyter.widget-view+json": {
       "model_id": "",
       "version_major": 2,
       "version_minor": 0
      },
      "text/plain": [
       "HBox(children=(IntProgress(value=0, description='Iteration', max=203), HTML(value='')))"
      ]
     },
     "metadata": {},
     "output_type": "display_data"
    },
    {
     "name": "stdout",
     "output_type": "stream",
     "text": [
      "2019-02-06 11:07:57,248 Reid_Baseline INFO: Epoch[20] Iteration[100/203] Loss: 3.644, Acc: 0.364, Base Lr: -6.58e-05\n",
      "2019-02-06 11:09:24,529 Reid_Baseline INFO: Epoch[20] Iteration[200/203] Loss: 3.596, Acc: 0.378, Base Lr: -6.58e-05\n",
      "Model:resnet50_epo20.pth saves successfully\n"
     ]
    },
    {
     "data": {
      "application/vnd.jupyter.widget-view+json": {
       "model_id": "",
       "version_major": 2,
       "version_minor": 0
      },
      "text/plain": [
       "HBox(children=(IntProgress(value=0, description='Feature Extraction', max=76), HTML(value='')))"
      ]
     },
     "metadata": {},
     "output_type": "display_data"
    },
    {
     "data": {
      "application/vnd.jupyter.widget-view+json": {
       "model_id": "",
       "version_major": 2,
       "version_minor": 0
      },
      "text/plain": [
       "HBox(children=(IntProgress(value=0, description='Metric Computing', max=3368), HTML(value='')))"
      ]
     },
     "metadata": {},
     "output_type": "display_data"
    },
    {
     "name": "stdout",
     "output_type": "stream",
     "text": [
      "2019-02-06 11:14:20,938 Reid_Baseline INFO: Validation Results - Epoch: 19\n",
      "2019-02-06 11:14:20,939 Reid_Baseline INFO: mAP: 44.9%\n",
      "2019-02-06 11:14:20,939 Reid_Baseline INFO: CMC curve, Rank-1  :66.8%\n",
      "2019-02-06 11:14:20,940 Reid_Baseline INFO: CMC curve, Rank-5  :83.2%\n",
      "2019-02-06 11:14:20,941 Reid_Baseline INFO: CMC curve, Rank-10 :88.7%\n"
     ]
    },
    {
     "data": {
      "application/vnd.jupyter.widget-view+json": {
       "model_id": "",
       "version_major": 2,
       "version_minor": 0
      },
      "text/plain": [
       "HBox(children=(IntProgress(value=0, description='Iteration', max=203), HTML(value='')))"
      ]
     },
     "metadata": {},
     "output_type": "display_data"
    },
    {
     "name": "stdout",
     "output_type": "stream",
     "text": [
      "2019-02-06 11:15:49,084 Reid_Baseline INFO: Epoch[21] Iteration[100/203] Loss: 3.507, Acc: 0.400, Base Lr: -6.58e-05\n",
      "2019-02-06 11:17:16,339 Reid_Baseline INFO: Epoch[21] Iteration[200/203] Loss: 3.472, Acc: 0.404, Base Lr: -6.58e-05\n"
     ]
    },
    {
     "data": {
      "application/vnd.jupyter.widget-view+json": {
       "model_id": "",
       "version_major": 2,
       "version_minor": 0
      },
      "text/plain": [
       "HBox(children=(IntProgress(value=0, description='Iteration', max=203), HTML(value='')))"
      ]
     },
     "metadata": {},
     "output_type": "display_data"
    },
    {
     "name": "stdout",
     "output_type": "stream",
     "text": [
      "2019-02-06 11:18:46,828 Reid_Baseline INFO: Epoch[22] Iteration[100/203] Loss: 3.382, Acc: 0.421, Base Lr: -6.58e-05\n",
      "2019-02-06 11:20:14,136 Reid_Baseline INFO: Epoch[22] Iteration[200/203] Loss: 3.354, Acc: 0.428, Base Lr: -6.58e-05\n"
     ]
    },
    {
     "data": {
      "application/vnd.jupyter.widget-view+json": {
       "model_id": "",
       "version_major": 2,
       "version_minor": 0
      },
      "text/plain": [
       "HBox(children=(IntProgress(value=0, description='Iteration', max=203), HTML(value='')))"
      ]
     },
     "metadata": {},
     "output_type": "display_data"
    },
    {
     "name": "stdout",
     "output_type": "stream",
     "text": [
      "2019-02-06 11:21:45,019 Reid_Baseline INFO: Epoch[23] Iteration[100/203] Loss: 3.247, Acc: 0.457, Base Lr: -6.58e-05\n",
      "2019-02-06 11:23:12,374 Reid_Baseline INFO: Epoch[23] Iteration[200/203] Loss: 3.236, Acc: 0.456, Base Lr: -6.58e-05\n"
     ]
    },
    {
     "data": {
      "application/vnd.jupyter.widget-view+json": {
       "model_id": "",
       "version_major": 2,
       "version_minor": 0
      },
      "text/plain": [
       "HBox(children=(IntProgress(value=0, description='Iteration', max=203), HTML(value='')))"
      ]
     },
     "metadata": {},
     "output_type": "display_data"
    },
    {
     "name": "stdout",
     "output_type": "stream",
     "text": [
      "2019-02-06 11:24:43,141 Reid_Baseline INFO: Epoch[24] Iteration[100/203] Loss: 3.158, Acc: 0.474, Base Lr: -6.58e-05\n",
      "2019-02-06 11:26:10,450 Reid_Baseline INFO: Epoch[24] Iteration[200/203] Loss: 3.129, Acc: 0.476, Base Lr: -6.58e-05\n"
     ]
    },
    {
     "data": {
      "application/vnd.jupyter.widget-view+json": {
       "model_id": "",
       "version_major": 2,
       "version_minor": 0
      },
      "text/plain": [
       "HBox(children=(IntProgress(value=0, description='Iteration', max=203), HTML(value='')))"
      ]
     },
     "metadata": {},
     "output_type": "display_data"
    },
    {
     "name": "stdout",
     "output_type": "stream",
     "text": [
      "2019-02-06 11:27:40,949 Reid_Baseline INFO: Epoch[25] Iteration[100/203] Loss: 3.045, Acc: 0.494, Base Lr: -6.58e-05\n",
      "2019-02-06 11:29:08,380 Reid_Baseline INFO: Epoch[25] Iteration[200/203] Loss: 3.019, Acc: 0.498, Base Lr: -6.58e-05\n"
     ]
    },
    {
     "data": {
      "application/vnd.jupyter.widget-view+json": {
       "model_id": "",
       "version_major": 2,
       "version_minor": 0
      },
      "text/plain": [
       "HBox(children=(IntProgress(value=0, description='Iteration', max=203), HTML(value='')))"
      ]
     },
     "metadata": {},
     "output_type": "display_data"
    },
    {
     "name": "stdout",
     "output_type": "stream",
     "text": [
      "2019-02-06 11:30:38,768 Reid_Baseline INFO: Epoch[26] Iteration[100/203] Loss: 2.951, Acc: 0.508, Base Lr: -6.58e-05\n",
      "2019-02-06 11:32:06,025 Reid_Baseline INFO: Epoch[26] Iteration[200/203] Loss: 2.915, Acc: 0.520, Base Lr: -6.58e-05\n"
     ]
    },
    {
     "data": {
      "application/vnd.jupyter.widget-view+json": {
       "model_id": "",
       "version_major": 2,
       "version_minor": 0
      },
      "text/plain": [
       "HBox(children=(IntProgress(value=0, description='Iteration', max=203), HTML(value='')))"
      ]
     },
     "metadata": {},
     "output_type": "display_data"
    },
    {
     "name": "stdout",
     "output_type": "stream",
     "text": [
      "2019-02-06 11:33:35,727 Reid_Baseline INFO: Epoch[27] Iteration[100/203] Loss: 2.825, Acc: 0.543, Base Lr: -6.58e-05\n",
      "2019-02-06 11:35:01,782 Reid_Baseline INFO: Epoch[27] Iteration[200/203] Loss: 2.813, Acc: 0.541, Base Lr: -6.58e-05\n"
     ]
    },
    {
     "data": {
      "application/vnd.jupyter.widget-view+json": {
       "model_id": "",
       "version_major": 2,
       "version_minor": 0
      },
      "text/plain": [
       "HBox(children=(IntProgress(value=0, description='Iteration', max=203), HTML(value='')))"
      ]
     },
     "metadata": {},
     "output_type": "display_data"
    },
    {
     "name": "stdout",
     "output_type": "stream",
     "text": [
      "2019-02-06 11:36:32,636 Reid_Baseline INFO: Epoch[28] Iteration[100/203] Loss: 2.735, Acc: 0.559, Base Lr: -6.58e-05\n",
      "2019-02-06 11:38:00,073 Reid_Baseline INFO: Epoch[28] Iteration[200/203] Loss: 2.712, Acc: 0.563, Base Lr: -6.58e-05\n"
     ]
    },
    {
     "data": {
      "application/vnd.jupyter.widget-view+json": {
       "model_id": "",
       "version_major": 2,
       "version_minor": 0
      },
      "text/plain": [
       "HBox(children=(IntProgress(value=0, description='Iteration', max=203), HTML(value='')))"
      ]
     },
     "metadata": {},
     "output_type": "display_data"
    },
    {
     "name": "stdout",
     "output_type": "stream",
     "text": [
      "2019-02-06 11:39:31,345 Reid_Baseline INFO: Epoch[29] Iteration[100/203] Loss: 2.642, Acc: 0.579, Base Lr: -6.58e-05\n",
      "2019-02-06 11:40:59,675 Reid_Baseline INFO: Epoch[29] Iteration[200/203] Loss: 2.615, Acc: 0.583, Base Lr: -6.58e-05\n"
     ]
    },
    {
     "data": {
      "application/vnd.jupyter.widget-view+json": {
       "model_id": "",
       "version_major": 2,
       "version_minor": 0
      },
      "text/plain": [
       "HBox(children=(IntProgress(value=0, description='Iteration', max=203), HTML(value='')))"
      ]
     },
     "metadata": {},
     "output_type": "display_data"
    },
    {
     "name": "stdout",
     "output_type": "stream",
     "text": [
      "2019-02-06 11:42:30,445 Reid_Baseline INFO: Epoch[30] Iteration[100/203] Loss: 2.545, Acc: 0.599, Base Lr: -6.58e-05\n",
      "2019-02-06 11:43:57,560 Reid_Baseline INFO: Epoch[30] Iteration[200/203] Loss: 2.516, Acc: 0.605, Base Lr: -6.58e-05\n"
     ]
    },
    {
     "data": {
      "application/vnd.jupyter.widget-view+json": {
       "model_id": "",
       "version_major": 2,
       "version_minor": 0
      },
      "text/plain": [
       "HBox(children=(IntProgress(value=0, description='Iteration', max=203), HTML(value='')))"
      ]
     },
     "metadata": {},
     "output_type": "display_data"
    },
    {
     "name": "stdout",
     "output_type": "stream",
     "text": [
      "2019-02-06 11:45:28,245 Reid_Baseline INFO: Epoch[31] Iteration[100/203] Loss: 2.462, Acc: 0.620, Base Lr: -6.58e-05\n",
      "2019-02-06 11:46:55,594 Reid_Baseline INFO: Epoch[31] Iteration[200/203] Loss: 2.431, Acc: 0.627, Base Lr: -6.58e-05\n"
     ]
    },
    {
     "data": {
      "application/vnd.jupyter.widget-view+json": {
       "model_id": "",
       "version_major": 2,
       "version_minor": 0
      },
      "text/plain": [
       "HBox(children=(IntProgress(value=0, description='Iteration', max=203), HTML(value='')))"
      ]
     },
     "metadata": {},
     "output_type": "display_data"
    },
    {
     "name": "stdout",
     "output_type": "stream",
     "text": [
      "2019-02-06 11:48:26,235 Reid_Baseline INFO: Epoch[32] Iteration[100/203] Loss: 2.349, Acc: 0.650, Base Lr: -6.58e-05\n",
      "2019-02-06 11:49:53,738 Reid_Baseline INFO: Epoch[32] Iteration[200/203] Loss: 2.343, Acc: 0.644, Base Lr: -6.58e-05\n"
     ]
    },
    {
     "data": {
      "application/vnd.jupyter.widget-view+json": {
       "model_id": "",
       "version_major": 2,
       "version_minor": 0
      },
      "text/plain": [
       "HBox(children=(IntProgress(value=0, description='Iteration', max=203), HTML(value='')))"
      ]
     },
     "metadata": {},
     "output_type": "display_data"
    },
    {
     "name": "stdout",
     "output_type": "stream",
     "text": [
      "2019-02-06 11:51:24,348 Reid_Baseline INFO: Epoch[33] Iteration[100/203] Loss: 2.273, Acc: 0.654, Base Lr: -6.58e-05\n",
      "2019-02-06 11:52:51,740 Reid_Baseline INFO: Epoch[33] Iteration[200/203] Loss: 2.260, Acc: 0.657, Base Lr: -6.58e-05\n"
     ]
    },
    {
     "data": {
      "application/vnd.jupyter.widget-view+json": {
       "model_id": "",
       "version_major": 2,
       "version_minor": 0
      },
      "text/plain": [
       "HBox(children=(IntProgress(value=0, description='Iteration', max=203), HTML(value='')))"
      ]
     },
     "metadata": {},
     "output_type": "display_data"
    },
    {
     "name": "stdout",
     "output_type": "stream",
     "text": [
      "2019-02-06 11:54:22,391 Reid_Baseline INFO: Epoch[34] Iteration[100/203] Loss: 2.195, Acc: 0.681, Base Lr: -6.58e-05\n",
      "2019-02-06 11:55:49,654 Reid_Baseline INFO: Epoch[34] Iteration[200/203] Loss: 2.175, Acc: 0.678, Base Lr: -6.58e-05\n"
     ]
    },
    {
     "data": {
      "application/vnd.jupyter.widget-view+json": {
       "model_id": "",
       "version_major": 2,
       "version_minor": 0
      },
      "text/plain": [
       "HBox(children=(IntProgress(value=0, description='Iteration', max=203), HTML(value='')))"
      ]
     },
     "metadata": {},
     "output_type": "display_data"
    },
    {
     "name": "stdout",
     "output_type": "stream",
     "text": [
      "2019-02-06 11:57:20,208 Reid_Baseline INFO: Epoch[35] Iteration[100/203] Loss: 2.112, Acc: 0.691, Base Lr: -6.58e-05\n",
      "2019-02-06 11:58:47,443 Reid_Baseline INFO: Epoch[35] Iteration[200/203] Loss: 2.098, Acc: 0.692, Base Lr: -6.58e-05\n"
     ]
    },
    {
     "data": {
      "application/vnd.jupyter.widget-view+json": {
       "model_id": "f80b285798544dea8b01f2b7a3d8e14a",
       "version_major": 2,
       "version_minor": 0
      },
      "text/plain": [
       "HBox(children=(IntProgress(value=0, description='Iteration', max=203), HTML(value='')))"
      ]
     },
     "metadata": {},
     "output_type": "display_data"
    }
   ],
   "source": [
    "import os\n",
    "import time\n",
    "import torch\n",
    "import numpy as np\n",
    "from torch.autograd import Variable\n",
    "import models\n",
    "from config import cfg\n",
    "from data_loader import data_loader\n",
    "from loss import make_loss\n",
    "from optimizer import make_optimizer\n",
    "from scheduler import make_scheduler\n",
    "from logger import make_logger\n",
    "from evaluation import evaluation\n",
    "from datasets import PersonReID_Dataset_Downloader\n",
    "from utils import check_jupyter_run\n",
    "if check_jupyter_run():\n",
    "    from tqdm import tqdm_notebook as tqdm\n",
    "else:\n",
    "    from tqdm import tqdm\n",
    "\n",
    "config_file = \"./config/market_softmax.yaml\"\n",
    "cfg.merge_from_file(config_file)\n",
    "cfg.freeze()\n",
    "\n",
    "PersonReID_Dataset_Downloader('./datasets',cfg.DATASETS.NAMES)\n",
    "\n",
    "output_dir = cfg.OUTPUT_DIR\n",
    "if output_dir and not os.path.exists(output_dir):\n",
    "        os.makedirs(output_dir)\n",
    "\n",
    "logger = make_logger(\"Reid_Baseline\", output_dir)\n",
    "logger.info(\"Using {} GPUS\".format(1))\n",
    "logger.info(\"Loaded configuration file {}\".format(config_file))\n",
    "logger.info(\"Running with config:\\n{}\".format(cfg))\n",
    "\n",
    "train_loader, val_loader, num_query, num_classes = data_loader(cfg)\n",
    "model = getattr(models, cfg.MODEL.NAME)(num_classes, cfg.MODEL.LAST_STRIDE, cfg.MODEL.PRETRAIN_PATH)\n",
    "optimizer = make_optimizer(cfg, model)\n",
    "scheduler = make_scheduler(cfg,optimizer)\n",
    "loss_fn = make_loss(cfg)\n",
    "\n",
    "log_period = cfg.SOLVER.LOG_PERIOD\n",
    "checkpoint_period = cfg.SOLVER.CHECKPOINT_PERIOD\n",
    "eval_period = cfg.SOLVER.EVAL_PERIOD\n",
    "output_dir = cfg.OUTPUT_DIR\n",
    "device = torch.device(cfg.MODEL.DEVICE)\n",
    "epochs = cfg.SOLVER.MAX_EPOCHS\n",
    "logger.info(\"Start training\")\n",
    "\n",
    "since = time.time()\n",
    "for epoch in tqdm(range(epochs), desc='Epoch'):\n",
    "    count = 0\n",
    "    running_loss = 0.0\n",
    "    running_acc = 0\n",
    "    for data in tqdm(train_loader, desc='Iteration', leave=False):\n",
    "        model.train()\n",
    "        images, labels = data\n",
    "        \n",
    "        if device:\n",
    "            model.to(device)\n",
    "            images, labels = images.to(device), labels.to(device)\n",
    "        \n",
    "        optimizer.zero_grad()\n",
    "                \n",
    "        scores, feats = model(images)\n",
    "        loss = loss_fn(scores, feats, labels)\n",
    "        \n",
    "        loss.backward()\n",
    "        optimizer.step()\n",
    "        \n",
    "        count = count + 1\n",
    "        running_loss += loss.item()\n",
    "        running_acc += (scores.max(1)[1] == labels).float().mean().item()\n",
    "        \n",
    "        if count % log_period == 0:\n",
    "            logger.info(\"Epoch[{}] Iteration[{}/{}] Loss: {:.3f}, Acc: {:.3f}, Base Lr: {:.2e}\"\n",
    "                                .format(epoch+1, count, len(train_loader),\n",
    "                                running_loss/count, running_acc/count,\n",
    "                                scheduler.get_lr()[0]))\n",
    "    scheduler.step()\n",
    "            \n",
    "    if (epoch+1) % checkpoint_period == 0:\n",
    "        model.save(output_dir,epoch+1)\n",
    "    \n",
    "    # Validation\n",
    "    if (epoch+1) % eval_period == 0:\n",
    "        all_feats = []\n",
    "        all_pids = []\n",
    "        all_camids = []\n",
    "        \n",
    "        for data in tqdm(val_loader, desc='Feature Extraction', leave=False):\n",
    "            model.eval()\n",
    "            with torch.no_grad():\n",
    "                images, pids, camids = data\n",
    "\n",
    "                if device:\n",
    "                    model.to(device)\n",
    "                    images = images.to(device)\n",
    "\n",
    "                feats = model(images)\n",
    "\n",
    "            all_feats.append(feats)\n",
    "            all_pids.extend(np.asarray(pids))\n",
    "            all_camids.extend(np.asarray(camids))\n",
    "\n",
    "        all_feats = torch.cat(all_feats, dim=0)\n",
    "        # query\n",
    "        qf = all_feats[:num_query]\n",
    "        q_pids = np.asarray(all_pids[:num_query])\n",
    "        q_camids = np.asarray(all_camids[:num_query])\n",
    "        # gallery\n",
    "        gf = all_feats[num_query:]\n",
    "        g_pids = np.asarray(all_pids[num_query:])\n",
    "        g_camids = np.asarray(all_camids[num_query:])\n",
    "        \n",
    "        m, n = qf.shape[0], gf.shape[0]\n",
    "        distmat = torch.pow(qf, 2).sum(dim=1, keepdim=True).expand(m, n) + \\\n",
    "                  torch.pow(gf, 2).sum(dim=1, keepdim=True).expand(n, m).t()\n",
    "        distmat.addmm_(1, -2, qf, gf.t())\n",
    "        distmat = distmat.cpu().numpy()\n",
    "        cmc, mAP = evaluation(distmat, q_pids, g_pids, q_camids, g_camids)\n",
    "        logger.info(\"Validation Results - Epoch: {}\".format(epoch))\n",
    "        logger.info(\"mAP: {:.1%}\".format(mAP))\n",
    "        for r in [1, 5, 10]:\n",
    "            logger.info(\"CMC curve, Rank-{:<3}:{:.1%}\".format(r, cmc[r - 1]))\n",
    "        \n",
    "\n",
    "time_elapsed = time.time() - since\n",
    "logger.info('Training complete in {:.0f}m {:.0f}s'.format(time_elapsed // 60, time_elapsed % 60))\n",
    "logger.info('-' * 10)"
   ]
  },
  {
   "cell_type": "code",
   "execution_count": 3,
   "metadata": {},
   "outputs": [
    {
     "name": "stdout",
     "output_type": "stream",
     "text": [
      "Dataset Check Success: Market1501 exists!\n",
      "2019-02-06 12:25:54,955 Reid_Baseline INFO: Using 1 GPUS\n",
      "2019-02-06 12:25:54,957 Reid_Baseline INFO: Loaded configuration file ./config/market_softmax_stride2.yaml\n",
      "2019-02-06 12:25:54,959 Reid_Baseline INFO: Running with config:\n",
      "DATALOADER:\n",
      "  NUM_INSTANCE: 16\n",
      "  NUM_WORKERS: 8\n",
      "  SAMPLER: softmax\n",
      "DATASETS:\n",
      "  NAMES: Market1501\n",
      "  STORE_DIR: ./datasets\n",
      "INPUT:\n",
      "  PADDING: 10\n",
      "  PIXEL_MEAN: [0.485, 0.456, 0.406]\n",
      "  PIXEL_STD: [0.229, 0.224, 0.225]\n",
      "  PROB: 0.5\n",
      "  SIZE_TEST: [384, 128]\n",
      "  SIZE_TRAIN: [384, 128]\n",
      "MODEL:\n",
      "  DEVICE: cuda:7\n",
      "  LAST_STRIDE: 2\n",
      "  NAME: ResNet50\n",
      "  PRETRAIN_PATH: /home/linshan/.torch/models/resnet50-19c8e357.pth\n",
      "OUTPUT_DIR: ./checkpoint/Market1501/Softmax_BS64_384x128_Stride2\n",
      "SOLVER:\n",
      "  BASE_LR: 0.00035\n",
      "  BIAS_LR_FACTOR: 1\n",
      "  CHECKPOINT_PERIOD: 20\n",
      "  EVAL_PERIOD: 20\n",
      "  GAMMA: 0.1\n",
      "  IMS_PER_BATCH: 64\n",
      "  LOG_PERIOD: 100\n",
      "  MARGIN: 0.3\n",
      "  MAX_EPOCHS: 120\n",
      "  MOMENTUM: 0.9\n",
      "  OPTIMIZER_NAME: Adam\n",
      "  STEP: 40\n",
      "  WARMUP: True\n",
      "  WARMUP_FACTOR: 0.01\n",
      "  WARMUP_ITERS: 5\n",
      "  WARMUP_METHOD: linear\n",
      "  WARMUP_STEPS: [30, 55]\n",
      "  WEIGHT_DECAY: 0.0005\n",
      "  WEIGHT_DECAY_BIAS: 0.0005\n",
      "TEST:\n",
      "  IMS_PER_BATCH: 256\n",
      "  WEIGHT: \n",
      "=> Market1501 Loaded\n",
      "Dataset statistics:\n",
      "  ----------------------------------------\n",
      "  subset   | # ids | # images | # cameras\n",
      "  ----------------------------------------\n",
      "  train    |   751 |    12936 |         6\n",
      "  query    |   750 |     3368 |         6\n",
      "  gallery  |   751 |    15913 |         6\n",
      "  ----------------------------------------\n",
      "2019-02-06 12:25:56,549 Reid_Baseline INFO: Start training\n"
     ]
    },
    {
     "data": {
      "application/vnd.jupyter.widget-view+json": {
       "model_id": "9777dd21d15342dba1ce4f58331955a4",
       "version_major": 2,
       "version_minor": 0
      },
      "text/plain": [
       "HBox(children=(IntProgress(value=0, description='Epoch', max=120), HTML(value='')))"
      ]
     },
     "metadata": {},
     "output_type": "display_data"
    },
    {
     "data": {
      "application/vnd.jupyter.widget-view+json": {
       "model_id": "",
       "version_major": 2,
       "version_minor": 0
      },
      "text/plain": [
       "HBox(children=(IntProgress(value=0, description='Iteration', max=203), HTML(value='')))"
      ]
     },
     "metadata": {},
     "output_type": "display_data"
    },
    {
     "name": "stdout",
     "output_type": "stream",
     "text": [
      "2019-02-06 12:28:11,802 Reid_Baseline INFO: Epoch[1] Iteration[203/203] Loss: 6.605, Acc: 0.008, Base Lr: 3.50e-06\n"
     ]
    },
    {
     "data": {
      "application/vnd.jupyter.widget-view+json": {
       "model_id": "",
       "version_major": 2,
       "version_minor": 0
      },
      "text/plain": [
       "HBox(children=(IntProgress(value=0, description='Iteration', max=203), HTML(value='')))"
      ]
     },
     "metadata": {},
     "output_type": "display_data"
    },
    {
     "name": "stdout",
     "output_type": "stream",
     "text": [
      "2019-02-06 12:30:22,816 Reid_Baseline INFO: Epoch[2] Iteration[203/203] Loss: 6.544, Acc: 0.066, Base Lr: 7.28e-05\n"
     ]
    },
    {
     "data": {
      "application/vnd.jupyter.widget-view+json": {
       "model_id": "996c3f763e494d339ac873dd180c6baa",
       "version_major": 2,
       "version_minor": 0
      },
      "text/plain": [
       "HBox(children=(IntProgress(value=0, description='Iteration', max=203), HTML(value='')))"
      ]
     },
     "metadata": {},
     "output_type": "display_data"
    },
    {
     "ename": "KeyboardInterrupt",
     "evalue": "",
     "output_type": "error",
     "traceback": [
      "\u001b[0;31m---------------------------------------------------------------------------\u001b[0m",
      "\u001b[0;31mKeyboardInterrupt\u001b[0m                         Traceback (most recent call last)",
      "\u001b[0;32m<ipython-input-3-1664620b374e>\u001b[0m in \u001b[0;36m<module>\u001b[0;34m()\u001b[0m\n\u001b[1;32m     67\u001b[0m \u001b[0;34m\u001b[0m\u001b[0m\n\u001b[1;32m     68\u001b[0m         \u001b[0mloss\u001b[0m\u001b[0;34m.\u001b[0m\u001b[0mbackward\u001b[0m\u001b[0;34m(\u001b[0m\u001b[0;34m)\u001b[0m\u001b[0;34m\u001b[0m\u001b[0m\n\u001b[0;32m---> 69\u001b[0;31m         \u001b[0moptimizer\u001b[0m\u001b[0;34m.\u001b[0m\u001b[0mstep\u001b[0m\u001b[0;34m(\u001b[0m\u001b[0;34m)\u001b[0m\u001b[0;34m\u001b[0m\u001b[0m\n\u001b[0m\u001b[1;32m     70\u001b[0m \u001b[0;34m\u001b[0m\u001b[0m\n\u001b[1;32m     71\u001b[0m         \u001b[0mcount\u001b[0m \u001b[0;34m=\u001b[0m \u001b[0mcount\u001b[0m \u001b[0;34m+\u001b[0m \u001b[0;36m1\u001b[0m\u001b[0;34m\u001b[0m\u001b[0m\n",
      "\u001b[0;32m~/anaconda3/lib/python3.6/site-packages/torch/optim/adam.py\u001b[0m in \u001b[0;36mstep\u001b[0;34m(self, closure)\u001b[0m\n\u001b[1;32m     99\u001b[0m                     \u001b[0mdenom\u001b[0m \u001b[0;34m=\u001b[0m \u001b[0mmax_exp_avg_sq\u001b[0m\u001b[0;34m.\u001b[0m\u001b[0msqrt\u001b[0m\u001b[0;34m(\u001b[0m\u001b[0;34m)\u001b[0m\u001b[0;34m.\u001b[0m\u001b[0madd_\u001b[0m\u001b[0;34m(\u001b[0m\u001b[0mgroup\u001b[0m\u001b[0;34m[\u001b[0m\u001b[0;34m'eps'\u001b[0m\u001b[0;34m]\u001b[0m\u001b[0;34m)\u001b[0m\u001b[0;34m\u001b[0m\u001b[0m\n\u001b[1;32m    100\u001b[0m                 \u001b[0;32melse\u001b[0m\u001b[0;34m:\u001b[0m\u001b[0;34m\u001b[0m\u001b[0m\n\u001b[0;32m--> 101\u001b[0;31m                     \u001b[0mdenom\u001b[0m \u001b[0;34m=\u001b[0m \u001b[0mexp_avg_sq\u001b[0m\u001b[0;34m.\u001b[0m\u001b[0msqrt\u001b[0m\u001b[0;34m(\u001b[0m\u001b[0;34m)\u001b[0m\u001b[0;34m.\u001b[0m\u001b[0madd_\u001b[0m\u001b[0;34m(\u001b[0m\u001b[0mgroup\u001b[0m\u001b[0;34m[\u001b[0m\u001b[0;34m'eps'\u001b[0m\u001b[0;34m]\u001b[0m\u001b[0;34m)\u001b[0m\u001b[0;34m\u001b[0m\u001b[0m\n\u001b[0m\u001b[1;32m    102\u001b[0m \u001b[0;34m\u001b[0m\u001b[0m\n\u001b[1;32m    103\u001b[0m                 \u001b[0mbias_correction1\u001b[0m \u001b[0;34m=\u001b[0m \u001b[0;36m1\u001b[0m \u001b[0;34m-\u001b[0m \u001b[0mbeta1\u001b[0m \u001b[0;34m**\u001b[0m \u001b[0mstate\u001b[0m\u001b[0;34m[\u001b[0m\u001b[0;34m'step'\u001b[0m\u001b[0;34m]\u001b[0m\u001b[0;34m\u001b[0m\u001b[0m\n",
      "\u001b[0;31mKeyboardInterrupt\u001b[0m: "
     ]
    }
   ],
   "source": [
    "import os\n",
    "import time\n",
    "import torch\n",
    "import numpy as np\n",
    "from torch.autograd import Variable\n",
    "import models\n",
    "from config import cfg\n",
    "from data_loader import data_loader\n",
    "from loss import make_loss\n",
    "from optimizer import make_optimizer\n",
    "from scheduler import make_scheduler\n",
    "from logger import make_logger\n",
    "from evaluation import evaluation\n",
    "from datasets import PersonReID_Dataset_Downloader\n",
    "from utils import check_jupyter_run\n",
    "if check_jupyter_run():\n",
    "    from tqdm import tqdm_notebook as tqdm\n",
    "else:\n",
    "    from tqdm import tqdm\n",
    "\n",
    "config_file = \"./config/market_softmax_stride2.yaml\"\n",
    "cfg.merge_from_file(config_file)\n",
    "cfg.freeze()\n",
    "\n",
    "PersonReID_Dataset_Downloader('./datasets',cfg.DATASETS.NAMES)\n",
    "\n",
    "output_dir = cfg.OUTPUT_DIR\n",
    "if output_dir and not os.path.exists(output_dir):\n",
    "        os.makedirs(output_dir)\n",
    "\n",
    "logger = make_logger(\"Reid_Baseline\", output_dir)\n",
    "logger.info(\"Using {} GPUS\".format(1))\n",
    "logger.info(\"Loaded configuration file {}\".format(config_file))\n",
    "logger.info(\"Running with config:\\n{}\".format(cfg))\n",
    "\n",
    "train_loader, val_loader, num_query, num_classes = data_loader(cfg)\n",
    "model = getattr(models, cfg.MODEL.NAME)(num_classes, cfg.MODEL.LAST_STRIDE, cfg.MODEL.PRETRAIN_PATH)\n",
    "optimizer = make_optimizer(cfg, model)\n",
    "scheduler = make_scheduler(cfg,optimizer)\n",
    "loss_fn = make_loss(cfg)\n",
    "\n",
    "log_period = cfg.SOLVER.LOG_PERIOD\n",
    "checkpoint_period = cfg.SOLVER.CHECKPOINT_PERIOD\n",
    "eval_period = cfg.SOLVER.EVAL_PERIOD\n",
    "output_dir = cfg.OUTPUT_DIR\n",
    "device = torch.device(cfg.MODEL.DEVICE)\n",
    "epochs = cfg.SOLVER.MAX_EPOCHS\n",
    "logger.info(\"Start training\")\n",
    "\n",
    "since = time.time()\n",
    "for epoch in tqdm(range(epochs), desc='Epoch'):\n",
    "    count = 0\n",
    "    running_loss = 0.0\n",
    "    running_acc = 0\n",
    "    for data in tqdm(train_loader, desc='Iteration', leave=False):\n",
    "        model.train()\n",
    "        images, labels = data\n",
    "        \n",
    "        if device:\n",
    "            model.to(device)\n",
    "            images, labels = images.to(device), labels.to(device)\n",
    "        \n",
    "        optimizer.zero_grad()\n",
    "                \n",
    "        scores, feats = model(images)\n",
    "        loss = loss_fn(scores, feats, labels)\n",
    "        \n",
    "        loss.backward()\n",
    "        optimizer.step()\n",
    "        \n",
    "        count = count + 1\n",
    "        running_loss += loss.item()\n",
    "        running_acc += (scores.max(1)[1] == labels).float().mean().item()\n",
    "        \n",
    "    logger.info(\"Epoch[{}] Iteration[{}/{}] Loss: {:.3f}, Acc: {:.3f}, Base Lr: {:.2e}\"\n",
    "                                .format(epoch+1, count, len(train_loader),\n",
    "                                running_loss/count, running_acc/count,\n",
    "                                scheduler.get_lr()[0]))\n",
    "    scheduler.step()\n",
    "            \n",
    "    if (epoch+1) % checkpoint_period == 0:\n",
    "        model.save(output_dir,epoch+1)\n",
    "    \n",
    "    # Validation\n",
    "    if (epoch+1) % eval_period == 0:\n",
    "        all_feats = []\n",
    "        all_pids = []\n",
    "        all_camids = []\n",
    "        \n",
    "        for data in tqdm(val_loader, desc='Feature Extraction', leave=False):\n",
    "            model.eval()\n",
    "            with torch.no_grad():\n",
    "                images, pids, camids = data\n",
    "\n",
    "                if device:\n",
    "                    model.to(device)\n",
    "                    images = images.to(device)\n",
    "\n",
    "                feats = model(images)\n",
    "\n",
    "            all_feats.append(feats)\n",
    "            all_pids.extend(np.asarray(pids))\n",
    "            all_camids.extend(np.asarray(camids))\n",
    "\n",
    "        all_feats = torch.cat(all_feats, dim=0)\n",
    "        # query\n",
    "        qf = all_feats[:num_query]\n",
    "        q_pids = np.asarray(all_pids[:num_query])\n",
    "        q_camids = np.asarray(all_camids[:num_query])\n",
    "        # gallery\n",
    "        gf = all_feats[num_query:]\n",
    "        g_pids = np.asarray(all_pids[num_query:])\n",
    "        g_camids = np.asarray(all_camids[num_query:])\n",
    "        \n",
    "        m, n = qf.shape[0], gf.shape[0]\n",
    "        distmat = torch.pow(qf, 2).sum(dim=1, keepdim=True).expand(m, n) + \\\n",
    "                  torch.pow(gf, 2).sum(dim=1, keepdim=True).expand(n, m).t()\n",
    "        distmat.addmm_(1, -2, qf, gf.t())\n",
    "        distmat = distmat.cpu().numpy()\n",
    "        cmc, mAP = evaluation(distmat, q_pids, g_pids, q_camids, g_camids)\n",
    "        logger.info(\"Validation Results - Epoch: {}\".format(epoch))\n",
    "        logger.info(\"mAP: {:.1%}\".format(mAP))\n",
    "        for r in [1, 5, 10]:\n",
    "            logger.info(\"CMC curve, Rank-{:<3}:{:.1%}\".format(r, cmc[r - 1]))\n",
    "        \n",
    "\n",
    "time_elapsed = time.time() - since\n",
    "logger.info('Training complete in {:.0f}m {:.0f}s'.format(time_elapsed // 60, time_elapsed % 60))\n",
    "logger.info('-' * 10)"
   ]
  },
  {
   "cell_type": "code",
   "execution_count": 2,
   "metadata": {},
   "outputs": [
    {
     "data": {
      "text/plain": [
       "<scheduler.WarmupMultiStepLR.WarmupMultiStepLR at 0x7f67bc558748>"
      ]
     },
     "execution_count": 2,
     "metadata": {},
     "output_type": "execute_result"
    }
   ],
   "source": []
  },
  {
   "cell_type": "code",
   "execution_count": 2,
   "metadata": {},
   "outputs": [
    {
     "name": "stdout",
     "output_type": "stream",
     "text": [
      "Dataset Check Success: Market1501 exists!\n",
      "2019-02-06 12:18:22,459 Reid_Baseline INFO: Using 1 GPUS\n",
      "2019-02-06 12:18:22,459 Reid_Baseline INFO: Loaded configuration file ./config/market_softmax_NoWarmUp.yaml\n",
      "2019-02-06 12:18:22,460 Reid_Baseline INFO: Running with config:\n",
      "DATALOADER:\n",
      "  NUM_INSTANCE: 16\n",
      "  NUM_WORKERS: 8\n",
      "  SAMPLER: softmax\n",
      "DATASETS:\n",
      "  NAMES: Market1501\n",
      "  STORE_DIR: ./datasets\n",
      "INPUT:\n",
      "  PADDING: 10\n",
      "  PIXEL_MEAN: [0.485, 0.456, 0.406]\n",
      "  PIXEL_STD: [0.229, 0.224, 0.225]\n",
      "  PROB: 0.5\n",
      "  SIZE_TEST: [384, 128]\n",
      "  SIZE_TRAIN: [384, 128]\n",
      "MODEL:\n",
      "  DEVICE: cuda:7\n",
      "  LAST_STRIDE: 1\n",
      "  NAME: ResNet50\n",
      "  PRETRAIN_PATH: /home/linshan/.torch/models/resnet50-19c8e357.pth\n",
      "OUTPUT_DIR: ./checkpoint/Market1501/Softmax_BS64_384x128_NoWarmUp\n",
      "SOLVER:\n",
      "  BASE_LR: 0.00035\n",
      "  BIAS_LR_FACTOR: 1\n",
      "  CHECKPOINT_PERIOD: 20\n",
      "  EVAL_PERIOD: 20\n",
      "  GAMMA: 0.1\n",
      "  IMS_PER_BATCH: 64\n",
      "  LOG_PERIOD: 100\n",
      "  MARGIN: 0.3\n",
      "  MAX_EPOCHS: 120\n",
      "  MOMENTUM: 0.9\n",
      "  OPTIMIZER_NAME: Adam\n",
      "  STEP: 2\n",
      "  WARMUP: False\n",
      "  WARMUP_FACTOR: 0.01\n",
      "  WARMUP_ITERS: 5\n",
      "  WARMUP_METHOD: linear\n",
      "  WARMUP_STEPS: [40, 70]\n",
      "  WEIGHT_DECAY: 0.0005\n",
      "  WEIGHT_DECAY_BIAS: 0.0005\n",
      "TEST:\n",
      "  IMS_PER_BATCH: 256\n",
      "  WEIGHT: \n",
      "=> Market1501 Loaded\n",
      "Dataset statistics:\n",
      "  ----------------------------------------\n",
      "  subset   | # ids | # images | # cameras\n",
      "  ----------------------------------------\n",
      "  train    |   751 |    12936 |         6\n",
      "  query    |   750 |     3368 |         6\n",
      "  gallery  |   751 |    15913 |         6\n",
      "  ----------------------------------------\n",
      "2019-02-06 12:18:23,863 Reid_Baseline INFO: Start training\n",
      "2019-02-06 12:21:23,859 Reid_Baseline INFO: Epoch[1] Iteration[203/203] Loss: 3.869, Acc: 0.288, Base Lr: 3.50e-03\n",
      "2019-02-06 12:24:21,310 Reid_Baseline INFO: Epoch[2] Iteration[203/203] Loss: 1.245, Acc: 0.734, Base Lr: 3.50e-03\n",
      "Iteration:  21%|######4                        | 42/203 [00:36<02:21,  1.14it/s]^C\n",
      "Traceback (most recent call last):\n",
      "  File \"main.py\", line 137, in <module>\n",
      "    fire.Fire()\n",
      "  File \"/home/linshan/anaconda3/lib/python3.6/site-packages/fire/core.py\", line 127, in Fire\n",
      "    component_trace = _Fire(component, args, context, name)\n",
      "  File \"/home/linshan/anaconda3/lib/python3.6/site-packages/fire/core.py\", line 366, in _Fire\n",
      "    component, remaining_args)\n",
      "  File \"/home/linshan/anaconda3/lib/python3.6/site-packages/fire/core.py\", line 542, in _CallCallable\n",
      "    result = fn(*varargs, **kwargs)\n",
      "  File \"main.py\", line 72, in train\n",
      "    optimizer.step()\n",
      "  File \"/home/linshan/anaconda3/lib/python3.6/site-packages/torch/optim/adam.py\", line 90, in step\n",
      "    grad.add_(group['weight_decay'], p.data)\n",
      "KeyboardInterrupt\n"
     ]
    }
   ],
   "source": [
    "!python main.py train ./config/market_softmax_NoWarmUp.yaml"
   ]
  },
  {
   "cell_type": "code",
   "execution_count": null,
   "metadata": {},
   "outputs": [],
   "source": []
  }
 ],
 "metadata": {
  "kernelspec": {
   "display_name": "Python 3",
   "language": "python",
   "name": "python3"
  },
  "language_info": {
   "codemirror_mode": {
    "name": "ipython",
    "version": 3
   },
   "file_extension": ".py",
   "mimetype": "text/x-python",
   "name": "python",
   "nbconvert_exporter": "python",
   "pygments_lexer": "ipython3",
   "version": "3.6.5"
  }
 },
 "nbformat": 4,
 "nbformat_minor": 2
}
