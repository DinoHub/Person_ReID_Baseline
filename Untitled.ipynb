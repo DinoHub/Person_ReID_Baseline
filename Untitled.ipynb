{
 "cells": [
  {
   "cell_type": "code",
   "execution_count": 1,
   "metadata": {},
   "outputs": [
    {
     "name": "stdout",
     "output_type": "stream",
     "text": [
      "Market1501\n",
      "=> Market1501 Loaded\n",
      "Dataset statistics:\n",
      "  ----------------------------------------\n",
      "  subset   | # ids | # images | # cameras\n",
      "  ----------------------------------------\n",
      "  train    |   751 |    12936 |         6\n",
      "  query    |   750 |     3368 |         6\n",
      "  gallery  |   751 |    15913 |         6\n",
      "  ----------------------------------------\n"
     ]
    }
   ],
   "source": [
    "from data_loader import data_loader\n",
    "from config import cfg # local variable usage pattern, or:# from config import cfg  # global singleton usage pattern\n",
    "\n",
    "cfg.merge_from_file(\"./config/softmax.yaml\")\n",
    "cfg.freeze()\n",
    "print(cfg.DATASETS.NAMES)\n",
    "\n",
    "train_loader, val_loader, num_query, num_classes = data_loader(cfg)"
   ]
  },
  {
   "cell_type": "code",
   "execution_count": 2,
   "metadata": {},
   "outputs": [
    {
     "data": {
      "text/plain": [
       "torch.Size([64, 3, 384, 128])"
      ]
     },
     "execution_count": 2,
     "metadata": {},
     "output_type": "execute_result"
    }
   ],
   "source": [
    "batch1 = next(iter(train_loader))\n",
    "batch1[0].shape"
   ]
  },
  {
   "cell_type": "code",
   "execution_count": 8,
   "metadata": {},
   "outputs": [
    {
     "data": {
      "text/plain": [
       "('./datasets/Market1501/bounding_box_train/0326_c2s3_074602_01.jpg',\n",
       " './datasets/Market1501/bounding_box_train/0814_c4s4_039360_01.jpg',\n",
       " './datasets/Market1501/bounding_box_train/0398_c3s1_094467_02.jpg',\n",
       " './datasets/Market1501/bounding_box_train/0408_c5s1_104223_01.jpg',\n",
       " './datasets/Market1501/bounding_box_train/0143_c2s1_022326_02.jpg',\n",
       " './datasets/Market1501/bounding_box_train/1168_c3s3_003462_02.jpg',\n",
       " './datasets/Market1501/bounding_box_train/0297_c6s1_066601_01.jpg',\n",
       " './datasets/Market1501/bounding_box_train/0494_c1s2_058596_01.jpg',\n",
       " './datasets/Market1501/bounding_box_train/0303_c6s1_068151_02.jpg',\n",
       " './datasets/Market1501/bounding_box_train/0639_c1s3_043976_01.jpg',\n",
       " './datasets/Market1501/bounding_box_train/1048_c2s2_133102_02.jpg',\n",
       " './datasets/Market1501/bounding_box_train/0486_c5s2_109177_08.jpg',\n",
       " './datasets/Market1501/bounding_box_train/0748_c5s3_086187_07.jpg',\n",
       " './datasets/Market1501/bounding_box_train/0158_c5s1_038201_02.jpg',\n",
       " './datasets/Market1501/bounding_box_train/0785_c6s2_076343_01.jpg',\n",
       " './datasets/Market1501/bounding_box_train/0376_c5s1_089423_02.jpg',\n",
       " './datasets/Market1501/bounding_box_train/0250_c3s3_079644_02.jpg',\n",
       " './datasets/Market1501/bounding_box_train/1263_c3s3_022878_04.jpg',\n",
       " './datasets/Market1501/bounding_box_train/0596_c6s2_021768_03.jpg',\n",
       " './datasets/Market1501/bounding_box_train/1445_c5s3_057615_03.jpg',\n",
       " './datasets/Market1501/bounding_box_train/0115_c6s1_019501_05.jpg',\n",
       " './datasets/Market1501/bounding_box_train/1003_c1s4_068611_01.jpg',\n",
       " './datasets/Market1501/bounding_box_train/1296_c2s3_031482_02.jpg',\n",
       " './datasets/Market1501/bounding_box_train/0519_c3s2_093403_01.jpg',\n",
       " './datasets/Market1501/bounding_box_train/1250_c6s3_044192_03.jpg',\n",
       " './datasets/Market1501/bounding_box_train/0164_c4s1_029626_04.jpg',\n",
       " './datasets/Market1501/bounding_box_train/0475_c3s1_122933_01.jpg',\n",
       " './datasets/Market1501/bounding_box_train/0030_c1s1_002576_01.jpg',\n",
       " './datasets/Market1501/bounding_box_train/0299_c5s1_092548_01.jpg',\n",
       " './datasets/Market1501/bounding_box_train/0002_c5s1_123595_04.jpg',\n",
       " './datasets/Market1501/bounding_box_train/0842_c5s2_107952_02.jpg',\n",
       " './datasets/Market1501/bounding_box_train/0534_c3s1_152083_01.jpg',\n",
       " './datasets/Market1501/bounding_box_train/0570_c2s2_021637_01.jpg',\n",
       " './datasets/Market1501/bounding_box_train/0499_c6s2_062093_01.jpg',\n",
       " './datasets/Market1501/bounding_box_train/0301_c6s1_076126_03.jpg',\n",
       " './datasets/Market1501/bounding_box_train/0704_c1s3_069626_01.jpg',\n",
       " './datasets/Market1501/bounding_box_train/1343_c3s3_040103_01.jpg',\n",
       " './datasets/Market1501/bounding_box_train/1007_c6s2_124268_05.jpg',\n",
       " './datasets/Market1501/bounding_box_train/0855_c3s2_107603_03.jpg',\n",
       " './datasets/Market1501/bounding_box_train/1116_c3s2_152444_02.jpg',\n",
       " './datasets/Market1501/bounding_box_train/0830_c3s2_116419_01.jpg',\n",
       " './datasets/Market1501/bounding_box_train/0773_c4s4_016410_04.jpg',\n",
       " './datasets/Market1501/bounding_box_train/0081_c2s3_026607_05.jpg',\n",
       " './datasets/Market1501/bounding_box_train/0648_c6s2_042568_01.jpg',\n",
       " './datasets/Market1501/bounding_box_train/0973_c5s2_140949_02.jpg',\n",
       " './datasets/Market1501/bounding_box_train/1123_c6s3_025967_02.jpg',\n",
       " './datasets/Market1501/bounding_box_train/1437_c6s3_079542_01.jpg',\n",
       " './datasets/Market1501/bounding_box_train/0589_c6s2_014693_01.jpg',\n",
       " './datasets/Market1501/bounding_box_train/0162_c4s6_050041_01.jpg',\n",
       " './datasets/Market1501/bounding_box_train/0111_c1s1_018851_01.jpg',\n",
       " './datasets/Market1501/bounding_box_train/1393_c2s3_048732_01.jpg',\n",
       " './datasets/Market1501/bounding_box_train/0242_c6s1_059376_03.jpg',\n",
       " './datasets/Market1501/bounding_box_train/0551_c5s2_012305_04.jpg',\n",
       " './datasets/Market1501/bounding_box_train/1327_c2s3_030257_02.jpg',\n",
       " './datasets/Market1501/bounding_box_train/0354_c6s1_081076_04.jpg',\n",
       " './datasets/Market1501/bounding_box_train/0333_c6s1_078876_02.jpg',\n",
       " './datasets/Market1501/bounding_box_train/0752_c5s2_070327_06.jpg',\n",
       " './datasets/Market1501/bounding_box_train/0940_c5s2_118874_04.jpg',\n",
       " './datasets/Market1501/bounding_box_train/0206_c6s1_041776_02.jpg',\n",
       " './datasets/Market1501/bounding_box_train/0002_c1s2_064446_01.jpg',\n",
       " './datasets/Market1501/bounding_box_train/0907_c1s4_051506_01.jpg',\n",
       " './datasets/Market1501/bounding_box_train/0466_c3s1_120558_01.jpg',\n",
       " './datasets/Market1501/bounding_box_train/0940_c3s2_118119_02.jpg',\n",
       " './datasets/Market1501/bounding_box_train/0545_c5s2_014730_01.jpg')"
      ]
     },
     "execution_count": 8,
     "metadata": {},
     "output_type": "execute_result"
    }
   ],
   "source": [
    "batch1[3]"
   ]
  },
  {
   "cell_type": "code",
   "execution_count": 25,
   "metadata": {},
   "outputs": [
    {
     "data": {
      "text/plain": [
       "torch.Size([256, 3, 384, 128])"
      ]
     },
     "execution_count": 25,
     "metadata": {},
     "output_type": "execute_result"
    }
   ],
   "source": [
    "batch2 = next(iter(val_loader))\n",
    "batch2[0].shape"
   ]
  },
  {
   "cell_type": "code",
   "execution_count": 29,
   "metadata": {},
   "outputs": [
    {
     "ename": "IndexError",
     "evalue": "tuple index out of range",
     "output_type": "error",
     "traceback": [
      "\u001b[0;31m---------------------------------------------------------------------------\u001b[0m",
      "\u001b[0;31mIndexError\u001b[0m                                Traceback (most recent call last)",
      "\u001b[0;32m<ipython-input-29-34642d740396>\u001b[0m in \u001b[0;36m<module>\u001b[0;34m()\u001b[0m\n\u001b[0;32m----> 1\u001b[0;31m \u001b[0mbatch2\u001b[0m\u001b[0;34m[\u001b[0m\u001b[0;36m3\u001b[0m\u001b[0;34m]\u001b[0m\u001b[0;34m\u001b[0m\u001b[0m\n\u001b[0m",
      "\u001b[0;31mIndexError\u001b[0m: tuple index out of range"
     ]
    }
   ],
   "source": [
    "batch2[3]"
   ]
  },
  {
   "cell_type": "code",
   "execution_count": null,
   "metadata": {},
   "outputs": [],
   "source": []
  }
 ],
 "metadata": {
  "kernelspec": {
   "display_name": "Python 3",
   "language": "python",
   "name": "python3"
  },
  "language_info": {
   "codemirror_mode": {
    "name": "ipython",
    "version": 3
   },
   "file_extension": ".py",
   "mimetype": "text/x-python",
   "name": "python",
   "nbconvert_exporter": "python",
   "pygments_lexer": "ipython3",
   "version": "3.6.5"
  }
 },
 "nbformat": 4,
 "nbformat_minor": 2
}
