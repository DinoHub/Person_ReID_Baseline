{
 "cells": [
  {
   "cell_type": "code",
   "execution_count": 1,
   "metadata": {},
   "outputs": [
    {
     "name": "stdout",
     "output_type": "stream",
     "text": [
      "Market1501\n",
      "=> Market1501 Loaded\n",
      "Dataset statistics:\n",
      "  ----------------------------------------\n",
      "  subset   | # ids | # images | # cameras\n",
      "  ----------------------------------------\n",
      "  train    |   751 |    12936 |         6\n",
      "  query    |   750 |     3368 |         6\n",
      "  gallery  |   751 |    15913 |         6\n",
      "  ----------------------------------------\n"
     ]
    }
   ],
   "source": [
    "import models\n",
    "from config import cfg\n",
    "from data_loader import data_loader\n",
    "from loss import make_loss\n",
    "from optimizer import make_optimizer\n",
    "from scheduler import make_scheduler\n",
    "from tqdm import tqdm_notebook as tqdm\n",
    "\n",
    "cfg.merge_from_file(\"./config/softmax.yaml\")\n",
    "cfg.freeze()\n",
    "print(cfg.DATASETS.NAMES)\n",
    "\n",
    "train_loader, val_loader, num_query, num_classes = data_loader(cfg)\n",
    "model = getattr(models, cfg.MODEL.NAME)(num_classes)\n",
    "\n",
    "optimizer = make_optimizer(cfg, model)\n",
    "scheduler = make_scheduler(cfg,optimizer)\n",
    "loss_func = make_loss(cfg)\n",
    "# model.cuda()\n",
    "\n",
    "# for epoch in range(cfg.SOLVER.MAX_EPOCHS):\n",
    "#     for data in tqdm(train_loader):\n",
    "#         print(data)"
   ]
  },
  {
   "cell_type": "code",
   "execution_count": 6,
   "metadata": {},
   "outputs": [
    {
     "name": "stdout",
     "output_type": "stream",
     "text": [
      "1\n"
     ]
    }
   ],
   "source": [
    "import os\n",
    "num_gpus = int(os.environ[\"WORLD_SIZE\"]) if \"WORLD_SIZE\" in os.environ else 1\n",
    "print(num_gpus)"
   ]
  },
  {
   "cell_type": "code",
   "execution_count": 8,
   "metadata": {},
   "outputs": [
    {
     "data": {
      "text/plain": [
       "torch.Size([64, 3, 384, 128])"
      ]
     },
     "execution_count": 8,
     "metadata": {},
     "output_type": "execute_result"
    }
   ],
   "source": [
    "batch1 = next(iter(train_loader))\n",
    "batch1[0].shape"
   ]
  },
  {
   "cell_type": "code",
   "execution_count": 9,
   "metadata": {},
   "outputs": [
    {
     "data": {
      "text/plain": [
       "tensor([732, 732, 732, 732, 698, 698, 698, 698,  95,  95,  95,  95,  77,  77,\n",
       "         77,  77, 230, 230, 230, 230, 584, 584, 584, 584,  35,  35,  35,  35,\n",
       "        257, 257, 257, 257, 202, 202, 202, 202, 454, 454, 454, 454, 455, 455,\n",
       "        455, 455, 607, 607, 607, 607,  56,  56,  56,  56, 261, 261, 261, 261,\n",
       "        447, 447, 447, 447, 714, 714, 714, 714])"
      ]
     },
     "execution_count": 9,
     "metadata": {},
     "output_type": "execute_result"
    }
   ],
   "source": [
    "batch1[1]"
   ]
  },
  {
   "cell_type": "code",
   "execution_count": 25,
   "metadata": {},
   "outputs": [
    {
     "data": {
      "text/plain": [
       "torch.Size([256, 3, 384, 128])"
      ]
     },
     "execution_count": 25,
     "metadata": {},
     "output_type": "execute_result"
    }
   ],
   "source": [
    "batch2 = next(iter(val_loader))\n",
    "batch2[0].shape"
   ]
  },
  {
   "cell_type": "code",
   "execution_count": 29,
   "metadata": {},
   "outputs": [
    {
     "ename": "IndexError",
     "evalue": "tuple index out of range",
     "output_type": "error",
     "traceback": [
      "\u001b[0;31m---------------------------------------------------------------------------\u001b[0m",
      "\u001b[0;31mIndexError\u001b[0m                                Traceback (most recent call last)",
      "\u001b[0;32m<ipython-input-29-34642d740396>\u001b[0m in \u001b[0;36m<module>\u001b[0;34m()\u001b[0m\n\u001b[0;32m----> 1\u001b[0;31m \u001b[0mbatch2\u001b[0m\u001b[0;34m[\u001b[0m\u001b[0;36m3\u001b[0m\u001b[0;34m]\u001b[0m\u001b[0;34m\u001b[0m\u001b[0m\n\u001b[0m",
      "\u001b[0;31mIndexError\u001b[0m: tuple index out of range"
     ]
    }
   ],
   "source": [
    "batch2[3]"
   ]
  },
  {
   "cell_type": "code",
   "execution_count": null,
   "metadata": {},
   "outputs": [],
   "source": []
  }
 ],
 "metadata": {
  "kernelspec": {
   "display_name": "Python 3",
   "language": "python",
   "name": "python3"
  },
  "language_info": {
   "codemirror_mode": {
    "name": "ipython",
    "version": 3
   },
   "file_extension": ".py",
   "mimetype": "text/x-python",
   "name": "python",
   "nbconvert_exporter": "python",
   "pygments_lexer": "ipython3",
   "version": "3.6.5"
  }
 },
 "nbformat": 4,
 "nbformat_minor": 2
}
